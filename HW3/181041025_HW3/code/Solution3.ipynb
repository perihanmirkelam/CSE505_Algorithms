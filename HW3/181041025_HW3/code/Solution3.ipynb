{
 "cells": [
  {
   "cell_type": "code",
   "execution_count": 32,
   "metadata": {},
   "outputs": [
    {
     "name": "stdout",
     "output_type": "stream",
     "text": [
      "mid:  3  A[mid]:  0  lowerBound:  0  upperBound:  7\n",
      "mid:  5  A[mid]:  6  lowerBound:  4  upperBound:  7\n",
      "mid:  4  A[mid]:  4  lowerBound:  4  upperBound:  5\n",
      "There exist an element ( 4 th element) of array A such that A[i] = i = 4\n"
     ]
    }
   ],
   "source": [
    "import array as arr\n",
    "\n",
    "def search(A,lowerBound,upperBound): \n",
    "    mid = int((upperBound + lowerBound)/2) \n",
    "    print(\"mid: \", mid, \" A[mid]: \", A[mid], \" lowerBound: \", lowerBound, \" upperBound: \", upperBound) \n",
    "    if lowerBound == upperBound and A[mid] != mid : \n",
    "        print(\"NO. There is no element on A array such that A[i] = i.\")\n",
    "    if A[mid] == mid:\n",
    "        print(\"There exist an element (\", mid, \"th element) of array A such that A[i] = i =\", mid) \n",
    "    if A[mid] > mid : \n",
    "        search(A,lowerBound,mid) \n",
    "    if A[mid] < mid :\n",
    "        search(A,mid + 1,upperBound)\n",
    "\n",
    "A = arr.array(\"i\", [-4, -2, -1, 0, 4, 6, 7])\n",
    "search(A, 0, len(A));"
   ]
  }
 ],
 "metadata": {
  "kernelspec": {
   "display_name": "Python 3",
   "language": "python",
   "name": "python3"
  },
  "language_info": {
   "codemirror_mode": {
    "name": "ipython",
    "version": 3
   },
   "file_extension": ".py",
   "mimetype": "text/x-python",
   "name": "python",
   "nbconvert_exporter": "python",
   "pygments_lexer": "ipython3",
   "version": "3.7.0"
  }
 },
 "nbformat": 4,
 "nbformat_minor": 2
}
