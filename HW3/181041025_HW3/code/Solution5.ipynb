{
 "cells": [
  {
   "cell_type": "code",
   "execution_count": 17,
   "metadata": {},
   "outputs": [
    {
     "name": "stdout",
     "output_type": "stream",
     "text": [
      "Tobeornottobe  matches to  ['to', 'be', 'or', 'not', 'to', 'be'] :  True\n"
     ]
    }
   ],
   "source": [
    "text = 'Tobeornottobe'\n",
    "A = 'to'\n",
    "B = 'be'\n",
    "C = 'or'\n",
    "D = 'not'\n",
    "pattern = [A, B, C, D, A, B]\n",
    "\n",
    "def match(text, pattern):\n",
    "    textLength = len(text)\n",
    "    patternCharLength = 0\n",
    "    \n",
    "    for pat in pattern:\n",
    "        patternCharLength += len(pat)\n",
    "    \n",
    "    #text length and total length of pattern items must match\n",
    "    if len(pattern) == 1 or patternCharLength == textLength:\n",
    "        startIndex = 0\n",
    "        endIndex = 0\n",
    "        if len(pattern) > 1:\n",
    "            #this part works when the function is called for the first time\n",
    "            #the recursive call for each pattern element\n",
    "            for i in range(len(pattern)):\n",
    "                partOfPattern = [pattern[i]]\n",
    "                endIndex = startIndex + len(pattern[i])\n",
    "                if not match(text[startIndex: endIndex], partOfPattern):\n",
    "                    print(\"Not match text part: \", text[startIndex:endIndex], \" partOfPattern: \", partOfPattern)\n",
    "                    return False\n",
    "                startIndex = endIndex\n",
    "                \n",
    "        #this part works for each element of pattern list after the function called for the first time\n",
    "        #complexity is m_i\n",
    "        if len(pattern) == 1:\n",
    "            patternItem = pattern[0]\n",
    "            for i in range(len(patternItem)):\n",
    "                if not patternItem[i].lower() == text[i].lower():\n",
    "                    return False\n",
    "           # print(patternItem, \" matches to \", text)\n",
    "        return True\n",
    "    else:\n",
    "        print(\"Not valid sizes. Pattern sizes are greater than text size!\")\n",
    "        return False\n",
    "\n",
    "print(text, \" matches to \", pattern, \": \", match(text, pattern))"
   ]
  }
 ],
 "metadata": {
  "kernelspec": {
   "display_name": "Python 3",
   "language": "python",
   "name": "python3"
  },
  "language_info": {
   "codemirror_mode": {
    "name": "ipython",
    "version": 3
   },
   "file_extension": ".py",
   "mimetype": "text/x-python",
   "name": "python",
   "nbconvert_exporter": "python",
   "pygments_lexer": "ipython3",
   "version": "3.7.0"
  }
 },
 "nbformat": 4,
 "nbformat_minor": 2
}
