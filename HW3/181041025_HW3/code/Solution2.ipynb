{
 "cells": [
  {
   "cell_type": "code",
   "execution_count": null,
   "metadata": {},
   "outputs": [],
   "source": [
    "n = 19 #Number of chips\n",
    "m = 3  #Number of maximum taken chips\n",
    "isFirstPlayer = True\n",
    "\n",
    "\n",
    "def startGame(n, m, isFirstPlayer):\n",
    "    print(\"n \", n, \", m\", m)\n",
    "    if isFirstPlayer :\n",
    "        player = 'First'\n",
    "    else:\n",
    "        player = 'Second'\n",
    "        \n",
    "    if not n % (m+1) == 0:\n",
    "        ask = str(player) + ' player. How many chips will you get: '\n",
    "        var = int(input(ask))\n",
    "        if var > 3 or var < 1 :\n",
    "            error = \"You can get at least 1 and at most \"+ str(m) + \" chips.\"\n",
    "            print(error)\n",
    "            var = int(input(ask))\n",
    "        startGame(n-var, m, not isFirstPlayer) \n",
    "    return player\n",
    "    \n",
    "print(startGame(n, m, isFirstPlayer), \"player wins!\")"
   ]
  }
 ],
 "metadata": {
  "kernelspec": {
   "display_name": "Python 3",
   "language": "python",
   "name": "python3"
  },
  "language_info": {
   "codemirror_mode": {
    "name": "ipython",
    "version": 3
   },
   "file_extension": ".py",
   "mimetype": "text/x-python",
   "name": "python",
   "nbconvert_exporter": "python",
   "pygments_lexer": "ipython3",
   "version": "3.7.0"
  }
 },
 "nbformat": 4,
 "nbformat_minor": 2
}
