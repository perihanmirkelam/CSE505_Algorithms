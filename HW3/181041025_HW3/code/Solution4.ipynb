{
 "cells": [
  {
   "cell_type": "code",
   "execution_count": 32,
   "metadata": {},
   "outputs": [
    {
     "name": "stdout",
     "output_type": "stream",
     "text": [
      "Max sum of subset is:  14\n"
     ]
    }
   ],
   "source": [
    "import sys\n",
    "  \n",
    "# Calculated max sum is maximum of three cases. \n",
    "# 1. Calculate right half and left half recursively.\n",
    "# 2. Plus calculate sub array(first time whole array) \n",
    "# include middle point and its both side of sum \n",
    "def calcMaxSubArraySum(arr, left, right) : \n",
    "\n",
    "    if (left == right) : \n",
    "        return arr[left] \n",
    "  \n",
    "    mid = int((left + right) / 2)\n",
    "    \n",
    "    leftside = calcMaxSubArraySum(arr, left, mid)\n",
    "    rightside = calcMaxSubArraySum(arr, mid+1, right)\n",
    "          \n",
    "    #calculate max sum of left and right side of mid\n",
    "    temp_left = 0 \n",
    "    left_sum = -sys.maxsize\n",
    "      \n",
    "    for i in range(mid, left-1, -1) : \n",
    "        temp_left = temp_left + arr[i] \n",
    "        left_sum = max(left_sum, temp_left)\n",
    "      \n",
    "    temp_right = 0\n",
    "    right_sum = -sys.maxsize\n",
    "    for i in range(mid + 1, right + 1) : \n",
    "        temp_right = temp_right + arr[i]  \n",
    "        right_sum = max(right_sum, temp_right)\n",
    "      \n",
    "    centered = left_sum + right_sum;\n",
    "  \n",
    "    return max(leftside, rightside, centered)               \n",
    "  \n",
    "A = [5, -6, 6, 7, -6, 7, -4, 3]   \n",
    "maxSum = calcMaxSubArraySum(A, 0, len(arr)-1) \n",
    "print(\"Max sum of subset is: \", maxSum) "
   ]
  }
 ],
 "metadata": {
  "kernelspec": {
   "display_name": "Python 3",
   "language": "python",
   "name": "python3"
  },
  "language_info": {
   "codemirror_mode": {
    "name": "ipython",
    "version": 3
   },
   "file_extension": ".py",
   "mimetype": "text/x-python",
   "name": "python",
   "nbconvert_exporter": "python",
   "pygments_lexer": "ipython3",
   "version": "3.7.0"
  }
 },
 "nbformat": 4,
 "nbformat_minor": 2
}
